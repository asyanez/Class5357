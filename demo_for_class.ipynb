{
  "nbformat": 4,
  "nbformat_minor": 0,
  "metadata": {
    "colab": {
      "provenance": [],
      "authorship_tag": "ABX9TyP43zvEwsbcGs3etibDw9+K",
      "include_colab_link": true
    },
    "kernelspec": {
      "name": "ir",
      "display_name": "R"
    },
    "language_info": {
      "name": "R"
    }
  },
  "cells": [
    {
      "cell_type": "markdown",
      "metadata": {
        "id": "view-in-github",
        "colab_type": "text"
      },
      "source": [
        "<a href=\"https://colab.research.google.com/github/asyanez/Class5357/blob/main/demo_for_class.ipynb\" target=\"_parent\"><img src=\"https://colab.research.google.com/assets/colab-badge.svg\" alt=\"Open In Colab\"/></a>"
      ]
    },
    {
      "cell_type": "code",
      "execution_count": null,
      "metadata": {
        "id": "niF7uvVO8Gv6"
      },
      "outputs": [],
      "source": []
    },
    {
      "cell_type": "markdown",
      "source": [
        "Read in my data for class"
      ],
      "metadata": {
        "id": "wHsOdvzQGJ79"
      }
    },
    {
      "source": [
        "# Assuming your file is in the current working directory\n",
        "epi_data <- read.csv(\"Epi2024.csv\")\n",
        "\n",
        "# If your file is in a different directory, specify the full path:\n",
        "# epi_data <- read.csv(\"/path/to/your/file/Epi2024.csv\")\n",
        "\n",
        "# Print the first few rows of the data to check if it was read correctly\n",
        "head(epi_data)\n",
        "\n",
        "dim(epi_data)\n"
      ],
      "cell_type": "code",
      "metadata": {
        "colab": {
          "base_uri": "https://localhost:8080/",
          "height": 462
        },
        "id": "7zq4sdIVApN0",
        "outputId": "b69049fd-91bc-48bb-d63a-a52d4b65bd65"
      },
      "execution_count": 4,
      "outputs": [
        {
          "output_type": "display_data",
          "data": {
            "text/html": [
              "<table class=\"dataframe\">\n",
              "<caption>A data.frame: 6 × 19</caption>\n",
              "<thead>\n",
              "\t<tr><th></th><th scope=col>Record.ID</th><th scope=col>Month</th><th scope=col>Jurisdiction</th><th scope=col>Date.of.Report</th><th scope=col>X1st.Attempt</th><th scope=col>Investigation.completed.date</th><th scope=col>Condition.reported</th><th scope=col>Case.Definition</th><th scope=col>DOB</th><th scope=col>Results</th><th scope=col>Case.Investigated</th><th scope=col>Age</th><th scope=col>Gender</th><th scope=col>Ethnicity</th><th scope=col>Complete.</th><th scope=col>Hospital.Admission</th><th scope=col>ICU.Admission</th><th scope=col>Collection.date</th><th scope=col>Expired</th></tr>\n",
              "\t<tr><th></th><th scope=col>&lt;int&gt;</th><th scope=col>&lt;chr&gt;</th><th scope=col>&lt;chr&gt;</th><th scope=col>&lt;chr&gt;</th><th scope=col>&lt;chr&gt;</th><th scope=col>&lt;chr&gt;</th><th scope=col>&lt;chr&gt;</th><th scope=col>&lt;chr&gt;</th><th scope=col>&lt;chr&gt;</th><th scope=col>&lt;chr&gt;</th><th scope=col>&lt;chr&gt;</th><th scope=col>&lt;int&gt;</th><th scope=col>&lt;chr&gt;</th><th scope=col>&lt;chr&gt;</th><th scope=col>&lt;chr&gt;</th><th scope=col>&lt;chr&gt;</th><th scope=col>&lt;chr&gt;</th><th scope=col>&lt;chr&gt;</th><th scope=col>&lt;chr&gt;</th></tr>\n",
              "</thead>\n",
              "<tbody>\n",
              "\t<tr><th scope=row>1</th><td>78999</td><td>January</td><td>ELP    </td><td>11/5/2023 </td><td>               </td><td>          </td><td>Giardiasis                                             </td><td>Confirmed </td><td>2/4/2017 </td><td>Positive  </td><td>No </td><td> 6</td><td>Female</td><td>Non-Hispanic</td><td>Complete</td><td>   </td><td>   </td><td>10/31/2023</td><td>   </td></tr>\n",
              "\t<tr><th scope=row>2</th><td>79002</td><td>January</td><td>Migrant</td><td>9/28/2023 </td><td>9/28/2023 15:17</td><td>9/28/2023 </td><td>Cryptosporidiosis                                      </td><td>Probable  </td><td>7/15/2022</td><td>Positive  </td><td>Yes</td><td> 1</td><td>Female</td><td>            </td><td>Complete</td><td>No </td><td>No </td><td>9/25/2023 </td><td>No </td></tr>\n",
              "\t<tr><th scope=row>3</th><td>79003</td><td>January</td><td>ELP    </td><td>11/19/2023</td><td>               </td><td>11/21/2023</td><td>Streptococcal disease (group A ,B, S. pneumo), invasive</td><td>Confirmed </td><td>6/2/1990 </td><td>Identified</td><td>No </td><td>33</td><td>Male  </td><td>Hispanic    </td><td>Complete</td><td>Yes</td><td>No </td><td>11/12/2023</td><td>No </td></tr>\n",
              "\t<tr><th scope=row>4</th><td>79004</td><td>January</td><td>ELP    </td><td>10/30/2023</td><td>               </td><td>10/30/2023</td><td>Streptococcal disease (group A ,B, S. pneumo), invasive</td><td>Confirmed </td><td>4/11/1963</td><td>Identified</td><td>No </td><td>60</td><td>Male  </td><td>Hispanic    </td><td>Complete</td><td>Yes</td><td>No </td><td>10/25/2023</td><td>No </td></tr>\n",
              "\t<tr><th scope=row>5</th><td>79005</td><td>January</td><td>ELP    </td><td>10/11/2023</td><td>               </td><td>10/11/2023</td><td>Streptococcal disease (group A ,B, S. pneumo), invasive</td><td>Confirmed </td><td>5/31/1937</td><td>Identified</td><td>No </td><td>86</td><td>Female</td><td>Hispanic    </td><td>Complete</td><td>Yes</td><td>Yes</td><td>10/2/2023 </td><td>Yes</td></tr>\n",
              "\t<tr><th scope=row>6</th><td>79006</td><td>January</td><td>ELP    </td><td>10/4/2023 </td><td>               </td><td>          </td><td>Other                                                  </td><td>Not a case</td><td>8/23/1982</td><td>Identified</td><td>No </td><td>41</td><td>Male  </td><td>Hispanic    </td><td>Complete</td><td>   </td><td>   </td><td>9/27/2023 </td><td>   </td></tr>\n",
              "</tbody>\n",
              "</table>\n"
            ],
            "text/markdown": "\nA data.frame: 6 × 19\n\n| <!--/--> | Record.ID &lt;int&gt; | Month &lt;chr&gt; | Jurisdiction &lt;chr&gt; | Date.of.Report &lt;chr&gt; | X1st.Attempt &lt;chr&gt; | Investigation.completed.date &lt;chr&gt; | Condition.reported &lt;chr&gt; | Case.Definition &lt;chr&gt; | DOB &lt;chr&gt; | Results &lt;chr&gt; | Case.Investigated &lt;chr&gt; | Age &lt;int&gt; | Gender &lt;chr&gt; | Ethnicity &lt;chr&gt; | Complete. &lt;chr&gt; | Hospital.Admission &lt;chr&gt; | ICU.Admission &lt;chr&gt; | Collection.date &lt;chr&gt; | Expired &lt;chr&gt; |\n|---|---|---|---|---|---|---|---|---|---|---|---|---|---|---|---|---|---|---|---|\n| 1 | 78999 | January | ELP     | 11/5/2023  | <!----> | <!----> | Giardiasis                                              | Confirmed  | 2/4/2017  | Positive   | No  |  6 | Female | Non-Hispanic | Complete | <!----> | <!----> | 10/31/2023 | <!----> |\n| 2 | 79002 | January | Migrant | 9/28/2023  | 9/28/2023 15:17 | 9/28/2023  | Cryptosporidiosis                                       | Probable   | 7/15/2022 | Positive   | Yes |  1 | Female | <!----> | Complete | No  | No  | 9/25/2023  | No  |\n| 3 | 79003 | January | ELP     | 11/19/2023 | <!----> | 11/21/2023 | Streptococcal disease (group A ,B, S. pneumo), invasive | Confirmed  | 6/2/1990  | Identified | No  | 33 | Male   | Hispanic     | Complete | Yes | No  | 11/12/2023 | No  |\n| 4 | 79004 | January | ELP     | 10/30/2023 | <!----> | 10/30/2023 | Streptococcal disease (group A ,B, S. pneumo), invasive | Confirmed  | 4/11/1963 | Identified | No  | 60 | Male   | Hispanic     | Complete | Yes | No  | 10/25/2023 | No  |\n| 5 | 79005 | January | ELP     | 10/11/2023 | <!----> | 10/11/2023 | Streptococcal disease (group A ,B, S. pneumo), invasive | Confirmed  | 5/31/1937 | Identified | No  | 86 | Female | Hispanic     | Complete | Yes | Yes | 10/2/2023  | Yes |\n| 6 | 79006 | January | ELP     | 10/4/2023  | <!----> | <!----> | Other                                                   | Not a case | 8/23/1982 | Identified | No  | 41 | Male   | Hispanic     | Complete | <!----> | <!----> | 9/27/2023  | <!----> |\n\n",
            "text/latex": "A data.frame: 6 × 19\n\\begin{tabular}{r|lllllllllllllllllll}\n  & Record.ID & Month & Jurisdiction & Date.of.Report & X1st.Attempt & Investigation.completed.date & Condition.reported & Case.Definition & DOB & Results & Case.Investigated & Age & Gender & Ethnicity & Complete. & Hospital.Admission & ICU.Admission & Collection.date & Expired\\\\\n  & <int> & <chr> & <chr> & <chr> & <chr> & <chr> & <chr> & <chr> & <chr> & <chr> & <chr> & <int> & <chr> & <chr> & <chr> & <chr> & <chr> & <chr> & <chr>\\\\\n\\hline\n\t1 & 78999 & January & ELP     & 11/5/2023  &                 &            & Giardiasis                                              & Confirmed  & 2/4/2017  & Positive   & No  &  6 & Female & Non-Hispanic & Complete &     &     & 10/31/2023 &    \\\\\n\t2 & 79002 & January & Migrant & 9/28/2023  & 9/28/2023 15:17 & 9/28/2023  & Cryptosporidiosis                                       & Probable   & 7/15/2022 & Positive   & Yes &  1 & Female &              & Complete & No  & No  & 9/25/2023  & No \\\\\n\t3 & 79003 & January & ELP     & 11/19/2023 &                 & 11/21/2023 & Streptococcal disease (group A ,B, S. pneumo), invasive & Confirmed  & 6/2/1990  & Identified & No  & 33 & Male   & Hispanic     & Complete & Yes & No  & 11/12/2023 & No \\\\\n\t4 & 79004 & January & ELP     & 10/30/2023 &                 & 10/30/2023 & Streptococcal disease (group A ,B, S. pneumo), invasive & Confirmed  & 4/11/1963 & Identified & No  & 60 & Male   & Hispanic     & Complete & Yes & No  & 10/25/2023 & No \\\\\n\t5 & 79005 & January & ELP     & 10/11/2023 &                 & 10/11/2023 & Streptococcal disease (group A ,B, S. pneumo), invasive & Confirmed  & 5/31/1937 & Identified & No  & 86 & Female & Hispanic     & Complete & Yes & Yes & 10/2/2023  & Yes\\\\\n\t6 & 79006 & January & ELP     & 10/4/2023  &                 &            & Other                                                   & Not a case & 8/23/1982 & Identified & No  & 41 & Male   & Hispanic     & Complete &     &     & 9/27/2023  &    \\\\\n\\end{tabular}\n",
            "text/plain": [
              "  Record.ID Month   Jurisdiction Date.of.Report X1st.Attempt   \n",
              "1 78999     January ELP          11/5/2023                     \n",
              "2 79002     January Migrant      9/28/2023      9/28/2023 15:17\n",
              "3 79003     January ELP          11/19/2023                    \n",
              "4 79004     January ELP          10/30/2023                    \n",
              "5 79005     January ELP          10/11/2023                    \n",
              "6 79006     January ELP          10/4/2023                     \n",
              "  Investigation.completed.date\n",
              "1                             \n",
              "2 9/28/2023                   \n",
              "3 11/21/2023                  \n",
              "4 10/30/2023                  \n",
              "5 10/11/2023                  \n",
              "6                             \n",
              "  Condition.reported                                      Case.Definition\n",
              "1 Giardiasis                                              Confirmed      \n",
              "2 Cryptosporidiosis                                       Probable       \n",
              "3 Streptococcal disease (group A ,B, S. pneumo), invasive Confirmed      \n",
              "4 Streptococcal disease (group A ,B, S. pneumo), invasive Confirmed      \n",
              "5 Streptococcal disease (group A ,B, S. pneumo), invasive Confirmed      \n",
              "6 Other                                                   Not a case     \n",
              "  DOB       Results    Case.Investigated Age Gender Ethnicity    Complete.\n",
              "1 2/4/2017  Positive   No                 6  Female Non-Hispanic Complete \n",
              "2 7/15/2022 Positive   Yes                1  Female              Complete \n",
              "3 6/2/1990  Identified No                33  Male   Hispanic     Complete \n",
              "4 4/11/1963 Identified No                60  Male   Hispanic     Complete \n",
              "5 5/31/1937 Identified No                86  Female Hispanic     Complete \n",
              "6 8/23/1982 Identified No                41  Male   Hispanic     Complete \n",
              "  Hospital.Admission ICU.Admission Collection.date Expired\n",
              "1                                  10/31/2023             \n",
              "2 No                 No            9/25/2023       No     \n",
              "3 Yes                No            11/12/2023      No     \n",
              "4 Yes                No            10/25/2023      No     \n",
              "5 Yes                Yes           10/2/2023       Yes    \n",
              "6                                  9/27/2023              "
            ]
          },
          "metadata": {}
        },
        {
          "output_type": "display_data",
          "data": {
            "text/html": [
              "<style>\n",
              ".list-inline {list-style: none; margin:0; padding: 0}\n",
              ".list-inline>li {display: inline-block}\n",
              ".list-inline>li:not(:last-child)::after {content: \"\\00b7\"; padding: 0 .5ex}\n",
              "</style>\n",
              "<ol class=list-inline><li>2526</li><li>19</li></ol>\n"
            ],
            "text/markdown": "1. 2526\n2. 19\n\n\n",
            "text/latex": "\\begin{enumerate*}\n\\item 2526\n\\item 19\n\\end{enumerate*}\n",
            "text/plain": [
              "[1] 2526   19"
            ]
          },
          "metadata": {}
        }
      ]
    },
    {
      "cell_type": "markdown",
      "source": [
        "Now create a summary table"
      ],
      "metadata": {
        "id": "MJBhqcDHGUQP"
      }
    },
    {
      "cell_type": "code",
      "source": [],
      "metadata": {
        "id": "ZbymzjxRGZlc"
      },
      "execution_count": null,
      "outputs": []
    },
    {
      "source": [
        "# Install and load the gtsummary package\n",
        "if (!require(\"gtsummary\")) install.packages(\"gtsummary\", dependencies = TRUE)\n",
        "library(gtsummary)\n",
        "\n",
        "# Create the summary table\n",
        "table1=epi_data %>%\n",
        "  tbl_summary(\n",
        "    by = Month,\n",
        "    include = c(Condition.reported, Case.Definition)\n",
        "  ) %>%\n",
        "  add_p() # Add p-values for comparing groups"
      ],
      "cell_type": "code",
      "metadata": {
        "colab": {
          "base_uri": "https://localhost:8080/"
        },
        "id": "444GszJrHZCJ",
        "outputId": "df9ab20b-a8b1-471a-b7bb-175e74b034d2"
      },
      "execution_count": 6,
      "outputs": [
        {
          "output_type": "stream",
          "name": "stderr",
          "text": [
            "\u001b[1m\u001b[22mThe following \u001b[31merrors\u001b[39m were returned during `add_p()`:\n",
            "\u001b[1m\u001b[22m\u001b[31m✖\u001b[39m For variable `Case.Definition` (`Month`) and \u001b[34m\"estimate\"\u001b[39m, \u001b[34m\"p.value\"\u001b[39m,\n",
            "  \u001b[34m\"conf.low\"\u001b[39m, and \u001b[34m\"conf.high\"\u001b[39m statistics: \u001b[31mFEXACT error 501. The hash table key\u001b[39m\n",
            "  \u001b[31mcannot be computed because the largest key is larger than the largest\u001b[39m\n",
            "  \u001b[31mrepresentable int. The algorithm cannot proceed. Reduce the workspace,\u001b[39m\n",
            "  \u001b[31mconsider using 'simulate.p.value=TRUE' or another algorithm.\u001b[39m\n",
            "\u001b[1m\u001b[22m\u001b[31m✖\u001b[39m For variable `Condition.reported` (`Month`) and \u001b[34m\"estimate\"\u001b[39m, \u001b[34m\"p.value\"\u001b[39m,\n",
            "  \u001b[34m\"conf.low\"\u001b[39m, and \u001b[34m\"conf.high\"\u001b[39m statistics: \u001b[31mFEXACT error 5. The hash table key\u001b[39m\n",
            "  \u001b[31mcannot be computed because the largest key is larger than the largest\u001b[39m\n",
            "  \u001b[31mrepresentable int. The algorithm cannot proceed. Reduce the workspace,\u001b[39m\n",
            "  \u001b[31mconsider using 'simulate.p.value=TRUE' or another algorithm.\u001b[39m\n"
          ]
        }
      ]
    },
    {
      "source": [
        "# Install and load the flextable package if you haven't already\n",
        "if (!require(\"flextable\")) install.packages(\"flextable\")\n",
        "library(flextable)\n",
        "\n",
        "# Assuming your table is named 'table1'\n",
        "# Convert the gtsummary table to a flextable object\n",
        "table1_flextable <- as_flextable(table1)\n",
        "\n",
        "# Save the flextable object to an RTF file\n",
        "save_as_rtf(table1_flextable, path = \"table1.rtf\")"
      ],
      "cell_type": "code",
      "metadata": {
        "colab": {
          "base_uri": "https://localhost:8080/",
          "height": 384
        },
        "id": "fn7Iz5OBMKn2",
        "outputId": "3a7bb363-eb57-4356-ee93-b28ce129fbcf"
      },
      "execution_count": 7,
      "outputs": [
        {
          "output_type": "stream",
          "name": "stderr",
          "text": [
            "Loading required package: flextable\n",
            "\n",
            "Warning message in library(package, lib.loc = lib.loc, character.only = TRUE, logical.return = TRUE, :\n",
            "“there is no package called ‘flextable’”\n",
            "Installing package into ‘/usr/local/lib/R/site-library’\n",
            "(as ‘lib’ is unspecified)\n",
            "\n",
            "also installing the dependency ‘gdtools’\n",
            "\n",
            "\n",
            "Warning message in install.packages(\"flextable\"):\n",
            "“installation of package ‘gdtools’ had non-zero exit status”\n",
            "Warning message in install.packages(\"flextable\"):\n",
            "“installation of package ‘flextable’ had non-zero exit status”\n"
          ]
        },
        {
          "output_type": "error",
          "ename": "ERROR",
          "evalue": "Error in library(flextable): there is no package called ‘flextable’\n",
          "traceback": [
            "Error in library(flextable): there is no package called ‘flextable’\nTraceback:\n",
            "1. stop(packageNotFoundError(package, lib.loc, sys.call()))"
          ]
        }
      ]
    }
  ]
}